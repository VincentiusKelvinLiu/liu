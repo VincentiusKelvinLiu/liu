{
  "nbformat": 4,
  "nbformat_minor": 0,
  "metadata": {
    "colab": {
      "provenance": [],
      "authorship_tag": "ABX9TyOjd0U8b1VXppF7MNuismV0",
      "include_colab_link": true
    },
    "kernelspec": {
      "name": "python3",
      "display_name": "Python 3"
    },
    "language_info": {
      "name": "python"
    }
  },
  "cells": [
    {
      "cell_type": "markdown",
      "metadata": {
        "id": "view-in-github",
        "colab_type": "text"
      },
      "source": [
        "<a href=\"https://colab.research.google.com/github/VincentiusKelvinLiu/liu/blob/main/Statistics0.ipynb\" target=\"_parent\"><img src=\"https://colab.research.google.com/assets/colab-badge.svg\" alt=\"Open In Colab\"/></a>"
      ]
    },
    {
      "cell_type": "markdown",
      "source": [
        "# **Statistika**"
      ],
      "metadata": {
        "id": "onCitjh2pLEm"
      }
    },
    {
      "cell_type": "markdown",
      "source": [
        "Modus, median, mean, kuartil"
      ],
      "metadata": {
        "id": "tVh9T4Q8YsNt"
      }
    },
    {
      "cell_type": "code",
      "execution_count": 5,
      "metadata": {
        "id": "tbEWndTbOWQq",
        "colab": {
          "base_uri": "https://localhost:8080/"
        },
        "outputId": "bd83e65b-d128-4756-8a54-790bc83b7a49"
      },
      "outputs": [
        {
          "output_type": "stream",
          "name": "stdout",
          "text": [
            "How many data? 20\n",
            "Input your data: 1\n",
            "Input your data: 2.3\n",
            "Input your data: 3.7\n",
            "Input your data: 1.43\n",
            "Input your data: 1.22\n",
            "Input your data: 1\n",
            "Input your data: 0\n",
            "Input your data: 0.23\n",
            "Input your data: 32\n",
            "Input your data: 1.9\n",
            "Input your data: 3.33\n",
            "Input your data: 3.32\n",
            "Input your data: 3.35\n",
            "Input your data: 2.7\n",
            "Input your data: 3.14\n",
            "Input your data: 4.2\n",
            "Input your data: 1.08\n",
            "Input your data: 1.001\n",
            "Input your data: 2.3\n",
            "Input your data: 4.22\n",
            "Mean: 3.67105\n",
            "Mode: 1.0, 2.3\n",
            "Median: 2.3\n",
            "Q1: 1.0405\n",
            "Q2: 2.3\n",
            "Q3: 3.34\n"
          ]
        }
      ],
      "source": [
        "total = int(input(\"How many data? \"))\n",
        "numbers = [ ]\n",
        "\n",
        "for i in range (total):\n",
        "  userInput = float(input(\"Input your data: \"))\n",
        "  numbers.append(userInput)\n",
        "\n",
        "def mean(numbers):\n",
        "  sum = 0\n",
        "  i = 0\n",
        "  while i < total:\n",
        "    sum += numbers[i]\n",
        "    i += 1\n",
        "  mean = sum/total\n",
        "  print(\"Mean:\", mean)\n",
        "\n",
        "def mode(numbers):\n",
        "  count = { }\n",
        "  for i in numbers:\n",
        "    if i in count:\n",
        "      count[i] += 1\n",
        "    else:\n",
        "      count[i] = 1\n",
        "    i += 1\n",
        "  max_count = max(count.values())\n",
        "  mode = [ ]\n",
        "  for i, frequency in count.items():\n",
        "    if frequency == max_count:\n",
        "      mode.append(i)\n",
        "  print(\"Mode:\", end=\" \")\n",
        "  j = 0\n",
        "  while j < len(mode):\n",
        "    if j == len(mode)-1:\n",
        "      print(mode[j])\n",
        "    else:\n",
        "      print(mode[j], end=\", \")\n",
        "    j += 1\n",
        "\n",
        "def median(numbers):\n",
        "  sorted_list = sorted(numbers)\n",
        "  if len(numbers) % 2 == 0:\n",
        "    med = (sorted_list[len(numbers)//2] + sorted_list[len(numbers)//2 - 1])/2\n",
        "  else:\n",
        "    med = sorted_list[len(numbers)//2]\n",
        "  print(\"Median:\", med)\n",
        "\n",
        "def kuartil(numbers):\n",
        "  sorted_list = sorted(numbers)\n",
        "  if len(numbers)%2 == 1:\n",
        "    if (len(numbers)+1)%4 == 0:\n",
        "      q1 = sorted_list[(len(numbers)+1)//4 - 1]\n",
        "      q2 = sorted_list[(len(numbers)+1)//2 - 1]\n",
        "      q3 = sorted_list[3*(len(numbers)+1)//4 -1]\n",
        "    else:\n",
        "      q1 = (sorted_list[(len(numbers)-1)//4 -1] + sorted_list[(len(numbers)+3)//4 -1])/2\n",
        "      q2 = sorted_list[len(numbers)//2]\n",
        "      q3 = (sorted_list[(3*len(numbers)+1)//4 -1] + sorted_list[(3*len(numbers)+5)//4 -1])/2\n",
        "  elif len(numbers)%2 ==0:\n",
        "    if len(numbers)%4 == 0:\n",
        "      q1 = (sorted_list[len(numbers)//4 -1] + sorted_list[len(numbers)//4])/2\n",
        "      q2 = (sorted_list[len(numbers)//2 -1] + sorted_list[len(numbers)//2])/2\n",
        "      q3 = (sorted_list[3*len(numbers)//4 -1] + sorted_list[3*len(numbers)//4])/2\n",
        "    else:\n",
        "      q1 = sorted_list[(len(numbers)+2)//4 -1]\n",
        "      q2 = (sorted_list[len(numbers)//2 -1] + sorted_list[len(numbers)//2])/2\n",
        "      q3 = sorted_list[(3*len(numbers)+2)//4 -1]\n",
        "  print(\"Q1:\", q1)\n",
        "  print(\"Q2:\", q2)\n",
        "  print(\"Q3:\", q3)\n",
        "\n",
        "mean(numbers)\n",
        "mode(numbers)\n",
        "median(numbers)\n",
        "kuartil(numbers)"
      ]
    }
  ]
}